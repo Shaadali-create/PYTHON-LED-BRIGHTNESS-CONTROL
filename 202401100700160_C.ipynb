{
  "nbformat": 4,
  "nbformat_minor": 0,
  "metadata": {
    "colab": {
      "provenance": [],
      "authorship_tag": "ABX9TyNVL5TSVhpWQYED7ZXU8eHx",
      "include_colab_link": true
    },
    "kernelspec": {
      "name": "python3",
      "display_name": "Python 3"
    },
    "language_info": {
      "name": "python"
    }
  },
  "cells": [
    {
      "cell_type": "markdown",
      "metadata": {
        "id": "view-in-github",
        "colab_type": "text"
      },
      "source": [
        "<a href=\"https://colab.research.google.com/github/Shaadali-create/PYTHON-LED-BRIGHTNESS-CONTROL/blob/main/202401100700160_C.ipynb\" target=\"_parent\"><img src=\"https://colab.research.google.com/assets/colab-badge.svg\" alt=\"Open In Colab\"/></a>"
      ]
    },
    {
      "cell_type": "markdown",
      "source": [
        "# Case study(2): LED Brightness Control"
      ],
      "metadata": {
        "id": "kXc8mIEmHjj7"
      }
    },
    {
      "cell_type": "code",
      "execution_count": 9,
      "metadata": {
        "id": "zbPIpr2I6sFh",
        "colab": {
          "base_uri": "https://localhost:8080/",
          "height": 0
        },
        "outputId": "3aae56df-5c90-4242-87cc-09e33f0a0e6e"
      },
      "outputs": [
        {
          "output_type": "stream",
          "name": "stdout",
          "text": [
            "******LED BRIGHTNESS CONTROL******\n",
            "\n",
            "Commands: '+' to increase, '-' to decrease, 'exit' to quit.\n",
            "\n",
            "Enter command: ++\n",
            "Brightness increased to 20%\n",
            "LED: [~] [~]         (20%)\n",
            "\n",
            "Enter command: ++\n",
            "Brightness increased to 40%\n",
            "LED: [~] [~] [~] [~]       (40%)\n",
            "\n",
            "Enter command: ++\n",
            "Brightness increased to 60%\n",
            "LED: [~] [~] [~] [~] [~] [~]     (60%)\n",
            "\n",
            "Enter command: ++\n",
            "Brightness increased to 80%\n",
            "LED: [~] [~] [~] [~] [~] [~] [~] [~]   (80%)\n",
            "\n",
            "Enter command: -\n",
            "Brightness decreased to 70%\n",
            "LED: [~] [~] [~] [~] [~] [~] [~]    (70%)\n",
            "\n",
            "Enter command: +++\n",
            "Brightness increased to 100%\n",
            "LED: [~] [~] [~] [~] [~] [~] [~] [~] [~] [~] (100%)\n",
            "\n",
            "Enter command: +\n",
            "Brightness is already at maximum!\n",
            "LED: [~] [~] [~] [~] [~] [~] [~] [~] [~] [~] (100%)\n",
            "\n",
            "Enter command: /\n",
            "Invalid command. Use '+' or '-'.\n",
            "LED: [~] [~] [~] [~] [~] [~] [~] [~] [~] [~] (100%)\n",
            "\n",
            "Enter command: ---\n",
            "Brightness decreased to 70%\n",
            "LED: [~] [~] [~] [~] [~] [~] [~]    (70%)\n",
            "\n",
            "Enter command: exit\n",
            "Exiting program...\n",
            "Program ended.\n"
          ]
        }
      ],
      "source": [
        "print(\"******LED BRIGHTNESS CONTROL******\\n\")\n",
        "brightness=0\n",
        "step=10\n",
        "print(\"Commands: '+' to increase, '-' to decrease, 'exit' to quit.\\n\")\n",
        "while True:\n",
        "  command= input(\"Enter command: \").strip()\n",
        "  incount=0\n",
        "  decount=0\n",
        "  for i in command:\n",
        "    if i==\"+\":\n",
        "      incount+=1\n",
        "    elif i==\"-\":\n",
        "      decount+=1\n",
        "\n",
        "  if command =='+'*incount:\n",
        "    if brightness<100:\n",
        "      in_brightness=brightness+step*incount\n",
        "      if in_brightness>100:\n",
        "        print(\"Brightness cannot be increased more than 100%\")\n",
        "      else:\n",
        "        brightness=in_brightness\n",
        "        print(f\"Brightness increased to {brightness}%\")\n",
        "    else:\n",
        "      print(\"Brightness is already at maximum!\")\n",
        "\n",
        "  elif command =='-'*decount:\n",
        "    if brightness>0:\n",
        "      d_brightness=brightness-step*decount\n",
        "      if d_brightness<0:\n",
        "        print(\"Brightness cannot be decreased more than 0%\")\n",
        "      else:\n",
        "        brightness=d_brightness\n",
        "        print(f\"Brightness decreased to {brightness}%\")\n",
        "    else:\n",
        "      print(\"Brightness is already at minimum!\")\n",
        "\n",
        "  elif command.lower()=='exit':\n",
        "    print(\"Exiting program...\")\n",
        "    break\n",
        "\n",
        "  else:\n",
        "    print(\"Invalid command. Use '+' or '-'.\")\n",
        "\n",
        "  print(\"LED: \"+\"[~] \"*(brightness//10)+\" \"*((100-brightness)//10)+f\"({brightness}%)\\n\")\n",
        "\n",
        "print(\"Program ended.\")\n"
      ]
    }
  ]
}